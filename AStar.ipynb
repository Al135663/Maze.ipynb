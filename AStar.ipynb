{
 "cells": [
  {
   "cell_type": "code",
   "execution_count": 2,
   "id": "012a899b-0d11-4ef5-a0e6-02dcb657500d",
   "metadata": {},
   "outputs": [],
   "source": [
    "from pyamaze import maze, agent, COLOR\n",
    "from queue import PriorityQueue\n",
    "import math\n",
    "import os\n",
    "import time\n",
    "\n",
    "# Global variable for start and goal points\n",
    "start_point = (15, 17)  # (row, col)\n",
    "goal_point = (3, 2)     # (row, col)"
   ]
  },
  {
   "cell_type": "code",
   "execution_count": 3,
   "id": "f23cbf95-8d1b-4b3e-be66-c906b8c9b55a",
   "metadata": {},
   "outputs": [],
   "source": [
    "# \"\"\" Heuristic function \"\"\"\n",
    "def M(cell1, cell2):\n",
    "    \"\"\" Heuristic function (Manhattan Distance) \"\"\"\n",
    "    x1, y1 = cell1\n",
    "    x2, y2 = cell2\n",
    "    return abs(x1 - x2) + abs(y1 - y2)\n",
    "\n",
    "def E(cell1, cell2):\n",
    "    \"\"\" Heuristic function (Euclidean Distance) \"\"\"\n",
    "    x1, y1 = cell1\n",
    "    x2, y2 = cell2\n",
    "    return math.sqrt((x1 - x2) ** 2 + (y1 - y2) ** 2)\n",
    "\n",
    "R = M  # Change to M for Manhattan, E for Euclidean Distance"
   ]
  },
  {
   "cell_type": "code",
   "execution_count": 4,
   "id": "8e82cb5e-adb5-41f8-9847-73cfb5bcf29b",
   "metadata": {},
   "outputs": [],
   "source": [
    "# ==== Load or Create Maze ====\n",
    "def load_or_create_maze():\n",
    "    # Loads a maze from CSV if available, or creates a new maze and saves it.\n",
    "    m = maze(15, 20)\n",
    "    if os.path.exists('maze.csv'):\n",
    "        print(\"Loading saved maze from CSV...\")\n",
    "        m.CreateMaze(3, 2, loadMaze=\"maze.csv\", theme=COLOR.dark)\n",
    "    else:\n",
    "        print(\"Creating new maze and saving to CSV...\")\n",
    "        m.CreateMaze(3, 2, loopPercent=100, theme=COLOR.dark, saveMaze='maze.csv')\n",
    "    return m"
   ]
  },
  {
   "cell_type": "code",
   "execution_count": 5,
   "id": "be61be79-6fa9-44d3-a714-ab3a3422c3b2",
   "metadata": {},
   "outputs": [],
   "source": [
    "# A* Search Algorithm\n",
    "def aStar(m):\n",
    "    # A* Search Algorithm to find the shortest path from start to goal.\n",
    "    # Visualises progress by moving the agent step by step.\n",
    "    # The algorithm uses a priority queue to explore the most promising nodes first based on their f_score values.\n",
    "    start = start_point\n",
    "\n",
    "    # Initialise g_score and f_score for all cells in the grid\n",
    "    g_score = {cell: float('inf') for cell in m.grid}\n",
    "    g_score[start] = 0\n",
    "    f_score = {cell: float('inf') for cell in m.grid}\n",
    "    f_score[start] = R(start, goal_point)  # Initial heuristic estimate\n",
    "\n",
    "    open_set = PriorityQueue()  # Priority queue to store cells to explore based on f_score\n",
    "    open_set.put((f_score[start], start))\n",
    "    aPath = {}\n",
    "    visited_cells = 0\n",
    "\n",
    "    # Set up the agent to move inside the maze\n",
    "    a = agent(m, start[0], start[1], footprints=True, color=COLOR.green, shape='square')\n",
    "\n",
    "    while not open_set.empty():\n",
    "        currCell = open_set.get()[1]  # Get the cell with the lowest f_score\n",
    "        visited_cells += 1  # Increment visited cells count\n",
    "\n",
    "        m.tracePath({a: [currCell]}, delay=100)  # Update agent's position\n",
    "        time.sleep(0.1)  # Visualization delay to slow down the animation\n",
    "\n",
    "        if currCell == goal_point:\n",
    "            break  # Stop when the goal is reached\n",
    "\n",
    "        # Check all 4 possible directions from the current cell\n",
    "        for d in 'ESNW':  # E=East, S=South, N=North, W=West\n",
    "            if m.maze_map[currCell][d]:\n",
    "                if d == 'E':\n",
    "                    childCell = (currCell[0], currCell[1] + 1)\n",
    "                elif d == 'W':\n",
    "                    childCell = (currCell[0], currCell[1] - 1)\n",
    "                elif d == 'S':\n",
    "                    childCell = (currCell[0] + 1, currCell[1])\n",
    "                else:\n",
    "                    childCell = (currCell[0] - 1, currCell[1])\n",
    "\n",
    "                # Calculate the new scores for the neighbour\n",
    "                temp_g_score = g_score[currCell] + 1\n",
    "                temp_f_score = temp_g_score + R(childCell, goal_point)\n",
    "\n",
    "                # If this path is better, update the scores and add to the queue\n",
    "                if temp_f_score < f_score[childCell]:\n",
    "                    g_score[childCell] = temp_g_score\n",
    "                    f_score[childCell] = temp_f_score\n",
    "                    open_set.put((temp_f_score, childCell))\n",
    "                    aPath[childCell] = currCell  # Remember how we got to childCell\n",
    "\n",
    "    # Reconstruct path from the goal to start\n",
    "    path = []\n",
    "    if currCell == goal_point:\n",
    "        cell = goal_point\n",
    "        while cell != start:\n",
    "            path.append(cell)\n",
    "            cell = aPath[cell]\n",
    "        path.reverse()  # Reverse the path to get it from start to goal\n",
    "    return path, len(path), visited_cells"
   ]
  },
  {
   "cell_type": "code",
   "execution_count": 6,
   "id": "86cbb418-479d-49d1-981b-92c8fc49f26a",
   "metadata": {},
   "outputs": [],
   "source": [
    "# Trace Final Path\n",
    "def traceFinalPath(m, agent, path):\n",
    "    # Trace the full path from start to goal with an agent after search is done.\n",
    "    if not path:\n",
    "        return  # No path found\n",
    "\n",
    "    # Move agent to the start position first\n",
    "    m.tracePath({agent: [path[0]]}, delay=100, kill=False)\n",
    "\n",
    "    # Trace each step of the path\n",
    "    for i in range(1, len(path)):\n",
    "        m.tracePath({agent: [path[i]]}, delay=100, kill=False)\n",
    "        time.sleep(0.1)"
   ]
  },
  {
   "cell_type": "code",
   "execution_count": 7,
   "id": "0289475e-c9b1-4c6b-bd18-d903ecc2ecfc",
   "metadata": {},
   "outputs": [
    {
     "name": "stdout",
     "output_type": "stream",
     "text": [
      "Loading saved maze from CSV...\n",
      "A* Path Length: 27\n",
      "Visited Cells: 55\n"
     ]
    }
   ],
   "source": [
    "# Load or create the maze\n",
    "m = load_or_create_maze()\n",
    "\n",
    "# Run A* Search and get the results\n",
    "path_AStar, steps_AStar, visited_cells = aStar(m)\n",
    "\n",
    "print(f\"A* Path Length: {steps_AStar}\")\n",
    "print(f\"Visited Cells: {visited_cells}\")"
   ]
  },
  {
   "cell_type": "code",
   "execution_count": 8,
   "id": "c74a0c6e-64c6-4f68-9316-4ce9fd2ec60a",
   "metadata": {},
   "outputs": [],
   "source": [
    "# Set up a new agent to draw the final path\n",
    "agent_AStar = agent(m, start_point[0], start_point[1], footprints=True, color=COLOR.cyan, shape='arrow')\n",
    "\n",
    "# Show the full final path\n",
    "traceFinalPath(m, agent_AStar, path_AStar)"
   ]
  },
  {
   "cell_type": "code",
   "execution_count": 9,
   "id": "489793e9-cd97-46c7-a4f3-604a26a7b290",
   "metadata": {},
   "outputs": [],
   "source": [
    "# Run the maze \n",
    "m.run()"
   ]
  },
  {
   "cell_type": "code",
   "execution_count": null,
   "id": "dfd9648b-80fd-4b31-8e74-4002ecba6fe6",
   "metadata": {},
   "outputs": [],
   "source": []
  },
  {
   "cell_type": "code",
   "execution_count": null,
   "id": "2937533c-d249-4bb2-951e-f798406d17a7",
   "metadata": {},
   "outputs": [],
   "source": []
  },
  {
   "cell_type": "code",
   "execution_count": null,
   "id": "6604cbc3-db9f-49e3-83d9-c1f56a7dd31a",
   "metadata": {},
   "outputs": [],
   "source": []
  },
  {
   "cell_type": "code",
   "execution_count": null,
   "id": "42c7b2d5-9d8a-4305-bb72-611425201071",
   "metadata": {},
   "outputs": [],
   "source": []
  },
  {
   "cell_type": "code",
   "execution_count": null,
   "id": "39e73912-1d5e-4044-8b4f-b90c2a1c5372",
   "metadata": {},
   "outputs": [],
   "source": []
  },
  {
   "cell_type": "code",
   "execution_count": null,
   "id": "b71620ca-2072-4c61-912f-f485484aa546",
   "metadata": {},
   "outputs": [],
   "source": []
  },
  {
   "cell_type": "code",
   "execution_count": null,
   "id": "611ab3ad-9f57-4041-a236-3503ffc2b897",
   "metadata": {},
   "outputs": [],
   "source": []
  },
  {
   "cell_type": "code",
   "execution_count": null,
   "id": "9d235688-e55e-4644-b1d5-fc5f6048edbf",
   "metadata": {},
   "outputs": [],
   "source": []
  }
 ],
 "metadata": {
  "kernelspec": {
   "display_name": "Python [conda env:base] *",
   "language": "python",
   "name": "conda-base-py"
  },
  "language_info": {
   "codemirror_mode": {
    "name": "ipython",
    "version": 3
   },
   "file_extension": ".py",
   "mimetype": "text/x-python",
   "name": "python",
   "nbconvert_exporter": "python",
   "pygments_lexer": "ipython3",
   "version": "3.12.7"
  }
 },
 "nbformat": 4,
 "nbformat_minor": 5
}
