{
 "cells": [
  {
   "cell_type": "code",
   "execution_count": 2,
   "id": "97c067f9-6f4d-414c-9982-7b70e2f512cf",
   "metadata": {},
   "outputs": [
    {
     "name": "stdout",
     "output_type": "stream",
     "text": [
      "Requirement already satisfied: pyamaze in c:\\users\\alexs\\anaconda3\\lib\\site-packages (1.0.1)\n"
     ]
    }
   ],
   "source": [
    "!pip install pyamaze"
   ]
  },
  {
   "cell_type": "code",
   "execution_count": 4,
   "id": "e25aca9a-468f-4517-b677-af6cc15b3b31",
   "metadata": {},
   "outputs": [],
   "source": [
    "from pyamaze import maze, agent, COLOR\n",
    "from queue import PriorityQueue\n",
    "import math\n",
    "import os\n",
    "import time\n",
    "\n",
    "# Define start and goal points\n",
    "start_point = (15, 17)  # (row, col)\n",
    "goal_point = (3, 2)     # (row, col)"
   ]
  },
  {
   "cell_type": "code",
   "execution_count": 6,
   "id": "72db06d2-916d-4d0a-aac3-fb99a74c31e5",
   "metadata": {},
   "outputs": [],
   "source": [
    "def load_or_create_maze():\n",
    "    \n",
    "   # Loads a maze from 'maze.csv' if it exists.\n",
    "   # Otherwise, it creates a new maze, saves it as 'maze.csv', and returns it.\n",
    "    \n",
    "    m = maze(15, 20)\n",
    "    if os.path.exists('maze.csv'):\n",
    "        print(\"Loading saved maze from CSV...\")\n",
    "        m.CreateMaze(3, 2, loadMaze=\"maze.csv\", theme=COLOR.dark)\n",
    "    else:\n",
    "        print(\"Creating new maze and saving to CSV...\")\n",
    "        m.CreateMaze(3, 2, loopPercent=100, theme=COLOR.dark, saveMaze='maze.csv')\n",
    "    return m"
   ]
  },
  {
   "cell_type": "code",
   "execution_count": 8,
   "id": "a373f944-5ba7-4f03-8d3a-663d311f33b3",
   "metadata": {},
   "outputs": [],
   "source": [
    "def BFS(m, delay=0.1):\n",
    "\n",
    "   # Breadth-First Search (BFS) algorithm for finding the shortest path.\n",
    "   # Visualises the search in real time with an agent moving step by step.\n",
    "    \n",
    "    start = start_point\n",
    "    frontier = [start]  # Queue to hold cells to explore next (FIFO)\n",
    "    explored = {start}  # Set to keep track of visited cells\n",
    "    bfsPath = {}        # Dictionary to keep track of how each cell was reached\n",
    "\n",
    "    # Set up the agent for visualization\n",
    "    a = agent(m, start[0], start[1], footprints=True, color=COLOR.red, shape='square')\n",
    "\n",
    "    while frontier:\n",
    "        currCell = frontier.pop(0)  # Get the next cell from the front of the queue (FIFO)\n",
    "        m.tracePath({a: [currCell]}, delay=100) # Show agent moving to the current cell\n",
    "        time.sleep(delay) # Add a small delay for better visualisation\n",
    "\n",
    "        if currCell == goal_point:\n",
    "            break # stop if the goal is reached\n",
    "\n",
    "        # Check all 4 directions (East, South, North, West)\n",
    "        for d in 'ESNW':\n",
    "            if m.maze_map[currCell][d]: # Check if the movement is possible\n",
    "                if d == 'E':\n",
    "                    childCell = (currCell[0], currCell[1] + 1)\n",
    "                elif d == 'W':\n",
    "                    childCell = (currCell[0], currCell[1] - 1)\n",
    "                elif d == 'S':\n",
    "                    childCell = (currCell[0] + 1, currCell[1])\n",
    "                else:\n",
    "                    childCell = (currCell[0] - 1, currCell[1])\n",
    "\n",
    "                # Add to frontier if not explored yet\n",
    "                if childCell not in explored:\n",
    "                    explored.add(childCell)\n",
    "                    frontier.append(childCell)\n",
    "                    bfsPath[childCell] = currCell  # Record how this cell was reached\n",
    "\n",
    "    # Reconstruct path from goal to start\n",
    "    path = []\n",
    "    if currCell == goal_point:\n",
    "        cell = goal_point\n",
    "        while cell != start:\n",
    "            path.append(cell)\n",
    "            cell = bfsPath[cell]\n",
    "        path.reverse() # Reverse to get the path from start to goal\n",
    "\n",
    "    return path, len(path), len(explored), explored"
   ]
  },
  {
   "cell_type": "code",
   "execution_count": 10,
   "id": "3bf4d2e5-4692-4290-971f-879d7744387c",
   "metadata": {},
   "outputs": [
    {
     "name": "stdout",
     "output_type": "stream",
     "text": [
      "Loading saved maze from CSV...\n"
     ]
    }
   ],
   "source": [
    "# Load or create the maze\n",
    "m = load_or_create_maze()"
   ]
  },
  {
   "cell_type": "code",
   "execution_count": 12,
   "id": "0cbb44e3-479d-4e24-856b-b466f5bf0f96",
   "metadata": {},
   "outputs": [
    {
     "name": "stdout",
     "output_type": "stream",
     "text": [
      "BFS Path Length: 27\n",
      "BFS Visited Cells: 296\n"
     ]
    }
   ],
   "source": [
    "# Run BFS and get results\n",
    "path_BFS, steps_BFS, _, explored = BFS(m)\n",
    "\n",
    "# Print results\n",
    "print(f\"BFS Path Length: {steps_BFS}\")\n",
    "print(f\"BFS Visited Cells: {len(explored)}\")"
   ]
  },
  {
   "cell_type": "code",
   "execution_count": 13,
   "id": "5e76da3e-663f-4fad-9f2a-4dbefc33fb28",
   "metadata": {},
   "outputs": [],
   "source": [
    "# Set up a new agent to draw the final BFS path\n",
    "agent_BFS = agent(m, start_point[0], start_point[1], footprints=True, color=COLOR.yellow, shape='arrow')\n",
    "\n",
    "# Visualise the final shortest path found by BFS\n",
    "m.tracePath({agent_BFS: path_BFS}, delay=100)"
   ]
  },
  {
   "cell_type": "code",
   "execution_count": null,
   "id": "c9e3d47c-87ef-4d99-82c3-c21f32cf7205",
   "metadata": {},
   "outputs": [],
   "source": [
    "m.run()"
   ]
  },
  {
   "cell_type": "code",
   "execution_count": null,
   "id": "952291d3-709a-4c09-b400-160647cace74",
   "metadata": {},
   "outputs": [],
   "source": []
  }
 ],
 "metadata": {
  "kernelspec": {
   "display_name": "Python [conda env:base] *",
   "language": "python",
   "name": "conda-base-py"
  },
  "language_info": {
   "codemirror_mode": {
    "name": "ipython",
    "version": 3
   },
   "file_extension": ".py",
   "mimetype": "text/x-python",
   "name": "python",
   "nbconvert_exporter": "python",
   "pygments_lexer": "ipython3",
   "version": "3.12.7"
  }
 },
 "nbformat": 4,
 "nbformat_minor": 5
}
