{
 "cells": [
  {
   "cell_type": "code",
   "execution_count": 133,
   "id": "5940a511-eb97-4fd2-9724-d42162e76fac",
   "metadata": {},
   "outputs": [
    {
     "name": "stdout",
     "output_type": "stream",
     "text": [
      "Requirement already satisfied: pyamaze in c:\\users\\alexs\\anaconda3\\lib\\site-packages (1.0.1)\n"
     ]
    }
   ],
   "source": [
    "!pip install pyamaze"
   ]
  },
  {
   "cell_type": "code",
   "execution_count": 134,
   "id": "e12e40e4-6e87-4fd8-bbc7-97e4f2de49d3",
   "metadata": {},
   "outputs": [],
   "source": [
    "from pyamaze import maze, agent, COLOR\n",
    "from queue import PriorityQueue\n",
    "import math\n",
    "import os\n",
    "import time\n",
    "\n",
    "# Global variables\n",
    "start_point = (15, 17)  # (row, col)\n",
    "goal_point = (3, 2)     # (row, col)"
   ]
  },
  {
   "cell_type": "code",
   "execution_count": 135,
   "id": "c64eb0ed-88c0-4cdb-ab96-b08710574265",
   "metadata": {},
   "outputs": [],
   "source": [
    "# Function to load an existing maze from CSV or create a new one\n",
    "def load_or_create_maze():\n",
    "    ## Loads a maze from 'maze.csv' if it exists. Otherwise, it creates a new maze, saves it as 'maze.csv', and returns it.\n",
    "    m = maze(15, 20)\n",
    "    if os.path.exists('maze.csv'):\n",
    "        print(\"Loading saved maze from CSV...\")\n",
    "        m.CreateMaze(3, 2, loadMaze=\"maze.csv\", theme=COLOR.dark)\n",
    "    else:\n",
    "        print(\"Creating new maze and saving to CSV...\")\n",
    "        m.CreateMaze(3, 2, loopPercent=100, theme=COLOR.dark, saveMaze='maze.csv')\n",
    "    return m"
   ]
  },
  {
   "cell_type": "code",
   "execution_count": 136,
   "id": "2a3b4c11-fecb-432c-9064-47203b38bb2e",
   "metadata": {},
   "outputs": [],
   "source": [
    "# DFS Search Algorithm\n",
    "def DFS(m):\n",
    "    \"\"\" Depth-First Search (LIFO) \"\"\"\n",
    "    start = start_point\n",
    "    explored = [start]  # List to keep track of visited cells\n",
    "    frontier = [start]  # Stack (LIFO) for cells to visit next\n",
    "    dfsPath = {}        # Dictionary to keep track of how each cell was reached\n",
    "\n",
    "    # Set up the agent that moves through the maze to visualise DFS\n",
    "    a = agent(m, start[0], start[1], footprints=True, color=COLOR.blue, shape='square')\n",
    "\n",
    "    while frontier:\n",
    "        currCell = frontier.pop()  # pop from the end\n",
    "        m.tracePath({a: [currCell]}, delay=100)  # Update agent's position\n",
    "        time.sleep(0.1)  # Visualization delay\n",
    "        if currCell == goal_point:\n",
    "            break  # Stop if the goal is reached\n",
    "\n",
    "        # Check all 4 directions (East, South, North, West)\n",
    "        for d in 'ESNW':\n",
    "            if m.maze_map[currCell][d]:  # Check if movement is possible in direction 'd'\n",
    "                if d == 'E':\n",
    "                    childCell = (currCell[0], currCell[1] + 1)\n",
    "                elif d == 'W':\n",
    "                    childCell = (currCell[0], currCell[1] - 1)\n",
    "                elif d == 'S':\n",
    "                    childCell = (currCell[0] + 1, currCell[1])\n",
    "                else:\n",
    "                    childCell = (currCell[0] - 1, currCell[1])\n",
    "\n",
    "                # If the neighbour has not been visited yet, add it to the stack\n",
    "                if childCell not in explored:\n",
    "                    explored.append(childCell)  # Mark as visited\n",
    "                    frontier.append(childCell)  # Push onto the stack\n",
    "                    dfsPath[childCell] = currCell  # Record how we got to childCell\n",
    "\n",
    "    # Reconstruct path from goal to start\n",
    "    path = []\n",
    "    if currCell == goal_point:\n",
    "        cell = goal_point\n",
    "        while cell != start:\n",
    "            path.append(cell)\n",
    "            cell = dfsPath[cell]\n",
    "        path.reverse()  # Get the path from start to goal\n",
    "    return path, len(path), len(explored), explored"
   ]
  },
  {
   "cell_type": "code",
   "execution_count": 137,
   "id": "bba0ab14-1c94-40da-ad4d-80f2e92095ea",
   "metadata": {},
   "outputs": [
    {
     "name": "stdout",
     "output_type": "stream",
     "text": [
      "Loading saved maze from CSV...\n"
     ]
    }
   ],
   "source": [
    "# Load or create the maze\n",
    "m = load_or_create_maze()"
   ]
  },
  {
   "cell_type": "code",
   "execution_count": 138,
   "id": "6f7fdd70-73df-4448-8165-edc3b8bd1be6",
   "metadata": {},
   "outputs": [
    {
     "name": "stdout",
     "output_type": "stream",
     "text": [
      "DFS Path Length: 33\n",
      "DFS Visited Cells: 297\n"
     ]
    }
   ],
   "source": [
    "# Run DFS and get results\n",
    "path_DFS, steps_DFS, _, explored = DFS(m)\n",
    "\n",
    "# Print the path length and number of visited cells\n",
    "print(f\"DFS Path Length: {steps_DFS}\")\n",
    "print(f\"DFS Visited Cells: {len(explored)}\")"
   ]
  },
  {
   "cell_type": "code",
   "execution_count": 139,
   "id": "5eb98990-bcfa-458d-9c4d-3bb0ee408ef7",
   "metadata": {},
   "outputs": [],
   "source": [
    "# Set up a new agent to draw the final DFS path\n",
    "agent_DFS = agent(m, start_point[0], start_point[1], footprints=True, color=COLOR.black, shape='arrow')\n",
    "\n",
    "# Visualise the final DFS path after the search\n",
    "m.tracePath({agent_DFS: path_DFS}, delay=100)\n"
   ]
  },
  {
   "cell_type": "code",
   "execution_count": 140,
   "id": "96d4b238-c06b-49a5-b132-b92bb54772f6",
   "metadata": {},
   "outputs": [],
   "source": [
    "# Run the maze GUI to display everything (only needed if no maze shows up automatically)\n",
    "m.run()"
   ]
  },
  {
   "cell_type": "code",
   "execution_count": null,
   "id": "444c1f5b-740a-4411-b060-25a339682fd9",
   "metadata": {},
   "outputs": [],
   "source": []
  }
 ],
 "metadata": {
  "kernelspec": {
   "display_name": "Python [conda env:base] *",
   "language": "python",
   "name": "conda-base-py"
  },
  "language_info": {
   "codemirror_mode": {
    "name": "ipython",
    "version": 3
   },
   "file_extension": ".py",
   "mimetype": "text/x-python",
   "name": "python",
   "nbconvert_exporter": "python",
   "pygments_lexer": "ipython3",
   "version": "3.12.7"
  }
 },
 "nbformat": 4,
 "nbformat_minor": 5
}
